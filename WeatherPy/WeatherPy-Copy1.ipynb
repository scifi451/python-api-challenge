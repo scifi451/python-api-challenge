{
 "cells": [
  {
   "cell_type": "markdown",
   "metadata": {},
   "source": [
    "# WeatherPy\n",
    "----\n",
    "\n",
    "#### Note\n",
    "* Instructions have been included for each segment. You do not have to follow them exactly, but they are included to help you think through the steps."
   ]
  },
  {
   "cell_type": "code",
   "execution_count": 1,
   "metadata": {
    "scrolled": true
   },
   "outputs": [],
   "source": [
    "# Dependencies and Setup\n",
    "import matplotlib.pyplot as plt\n",
    "import pandas as pd\n",
    "import numpy as np\n",
    "import requests\n",
    "import time\n",
    "\n",
    "# Import API key\n",
    "from api_keys import api_key\n",
    "\n",
    "# Incorporated citipy to determine city based on latitude and longitude\n",
    "from citipy import citipy\n",
    "\n",
    "# Output File (CSV)\n",
    "output_data_file = \"output_data/cities.csv\"\n",
    "\n",
    "# Range of latitudes and longitudes\n",
    "lat_range = (-90, 90)\n",
    "lng_range = (-180, 180)"
   ]
  },
  {
   "cell_type": "markdown",
   "metadata": {},
   "source": [
    "## Generate Cities List"
   ]
  },
  {
   "cell_type": "code",
   "execution_count": 14,
   "metadata": {
    "scrolled": true
   },
   "outputs": [
    {
     "data": {
      "text/plain": [
       "574"
      ]
     },
     "execution_count": 14,
     "metadata": {},
     "output_type": "execute_result"
    }
   ],
   "source": [
    "# List for holding lat_lngs and cities\n",
    "lat_lngs = []\n",
    "cities = []\n",
    "\n",
    "# Create a set of random lat and lng combinations\n",
    "lats = np.random.uniform(low=-90.000, high=90.000, size=1400)\n",
    "lngs = np.random.uniform(low=-180.000, high=180.000, size=1400)\n",
    "lat_lngs = zip(lats, lngs)\n",
    "\n",
    "# Identify nearest city for each lat, lng combination\n",
    "for lat_lng in lat_lngs:\n",
    "    city = citipy.nearest_city(lat_lng[0], lat_lng[1]).city_name\n",
    "    \n",
    "    #If the city is unique, then add it to a our cities list\n",
    "    if city not in cities:\n",
    "        cities.append(city)\n",
    "\n",
    "# Print the city count to confirm sufficient count\n",
    "len(cities)\n"
   ]
  },
  {
   "cell_type": "markdown",
   "metadata": {},
   "source": [
    "### Perform API Calls\n",
    "* Perform a weather check on each city using a series of successive API calls.\n",
    "* Include a print log of each city as it'sbeing processed (with the city number and city name).\n"
   ]
  },
  {
   "cell_type": "code",
   "execution_count": 3,
   "metadata": {
    "scrolled": false
   },
   "outputs": [
    {
     "name": "stdout",
     "output_type": "stream",
     "text": [
      "Retrieving information for City: Guerrero Negro and City ID is: 4021858 \n",
      "Retrieving information for City: Narsaq and City ID is: 3421719 \n",
      "Retrieving information for City: Norman Wells and City ID is: 6089245 \n",
      "Retrieving information for City: Iqaluit and City ID is: 5983720 \n",
      "Retrieving information for City: Forbes and City ID is: 2166368 \n",
      "Retrieving information for City: Cherskiy and City ID is: 2126199 \n",
      "Retrieving information for City: Vaini and City ID is: 1273574 \n",
      "Retrieving information for City: Saint-Pierre and City ID is: 2995603 \n",
      "Retrieving information for City: Tomatlan and City ID is: 3981391 \n",
      "Retrieving information for City: Galle and City ID is: 2419533 \n",
      "Retrieving information for City: Lazaro Cardenas and City ID is: 3996234 \n",
      "Retrieving information for City: Fairbanks and City ID is: 5861897 \n",
      "Retrieving information for City: Berdigestyakh and City ID is: 2026861 \n",
      "Retrieving information for City: Sur and City ID is: 286245 \n",
      "Retrieving information for City: Pevek and City ID is: 2122090 \n",
      "Retrieving information for City: San Quintin and City ID is: 1688687 \n",
      "Retrieving information for City: Rikitea and City ID is: 4030556 \n",
      "Retrieving information for City: Amapa and City ID is: 3603330 \n",
      "Retrieving information for City: Cape Town and City ID is: 3369157 \n",
      "Retrieving information for City: Nipawin and City ID is: 6088469 \n"
     ]
    }
   ],
   "source": [
    "# set up lists to hold response info\n",
    "lat = []\n",
    "temp_max = []\n",
    "hum = []\n",
    "cloud = []\n",
    "wind = []\n",
    "long = []\n",
    "city_api = []\n",
    "country = []\n",
    "datetime_api = []\n",
    "\n",
    "# Save config information.\n",
    "url = \"http://api.openweathermap.org/data/2.5/weather?\"\n",
    "units = \"imperial\"\n",
    "\n",
    "# Build partial query URL\n",
    "query_url = f\"{url}appid={api_key}&units={units}&q=\"\n",
    "\n",
    "# Viewing the straight Json\n",
    "# weather_response = requests.get(query_url + city)\n",
    "# weather_json = weather_response.json()\n",
    "# city_id = weather_json[\"id\"]\n",
    "# city_name = weather_json[\"name\"]\n",
    "\n",
    "    # Loop through the list of cities and perform a request for data on each\n",
    "for city in cities:\n",
    "        weather_response = requests.get(query_url + city)\n",
    "        weather_json = weather_response.json()\n",
    "        #Error handling\n",
    "        try:\n",
    "            city_id = weather_json[\"id\"]\n",
    "            city_name = weather_json[\"name\"]\n",
    "        \n",
    "        # Add a one second interval between queries to stay within API query limits\n",
    "            time.sleep(1)\n",
    "    \n",
    "            response = requests.get(query_url + city).json()\n",
    "            lat.append(response['coord']['lat'])\n",
    "            long.append(response['coord']['lon'])\n",
    "            temp_max.append(response['main']['temp_max'])\n",
    "            hum.append(response['main']['humidity'])\n",
    "            cloud.append(response['clouds']['all'])\n",
    "            wind.append(response['wind']['speed'])\n",
    "            country.append(response['sys']['country'])\n",
    "            city_api.append(response[\"name\"])\n",
    "            datetime_api.append(response[\"dt\"])\n",
    "            \n",
    "            print(f\"Retrieving information for City: {city_name} and City ID is: {city_id} \")\n",
    "            \n",
    "        except (KeyError, IndexError):\n",
    "            print(f\"Missing information for City: {city_name}. Skipping city.\")\n",
    "        \n",
    "#print(f\"The latitude information received is: {lat}\")\n",
    "#print(f\"The latitude information received is: {long}\")\n",
    "#print(f\"The temperature information received is: {temp_max}\")\n",
    "#print(f\"The humidity information received is: {hum}\")\n",
    "#print(f\"The cloudyiness information received is: {cloud}\")\n",
    "#print(f\"The wind information received is: {wind}\")\n",
    "#print(f\"The city information received is: {city_api}\")\n",
    "#weather_json\n"
   ]
  },
  {
   "cell_type": "markdown",
   "metadata": {},
   "source": [
    "### Convert Raw Data to DataFrame\n",
    "* Export the city data into a .csv.\n",
    "* Display the DataFrame"
   ]
  },
  {
   "cell_type": "code",
   "execution_count": 4,
   "metadata": {},
   "outputs": [
    {
     "data": {
      "text/html": [
       "<div>\n",
       "<style scoped>\n",
       "    .dataframe tbody tr th:only-of-type {\n",
       "        vertical-align: middle;\n",
       "    }\n",
       "\n",
       "    .dataframe tbody tr th {\n",
       "        vertical-align: top;\n",
       "    }\n",
       "\n",
       "    .dataframe thead th {\n",
       "        text-align: right;\n",
       "    }\n",
       "</style>\n",
       "<table border=\"1\" class=\"dataframe\">\n",
       "  <thead>\n",
       "    <tr style=\"text-align: right;\">\n",
       "      <th></th>\n",
       "      <th>Longitude</th>\n",
       "      <th>Latitude</th>\n",
       "      <th>City</th>\n",
       "      <th>Country</th>\n",
       "      <th>Temp Max</th>\n",
       "      <th>Humidity</th>\n",
       "      <th>Cloudiness (%)</th>\n",
       "      <th>Wind Speed (MPH)</th>\n",
       "      <th>Time</th>\n",
       "    </tr>\n",
       "  </thead>\n",
       "  <tbody>\n",
       "    <tr>\n",
       "      <th>0</th>\n",
       "      <td>-114.04</td>\n",
       "      <td>27.97</td>\n",
       "      <td>Guerrero Negro</td>\n",
       "      <td>MX</td>\n",
       "      <td>85.53</td>\n",
       "      <td>28</td>\n",
       "      <td>0</td>\n",
       "      <td>9.02</td>\n",
       "      <td>1570917948</td>\n",
       "    </tr>\n",
       "    <tr>\n",
       "      <th>1</th>\n",
       "      <td>-46.05</td>\n",
       "      <td>60.91</td>\n",
       "      <td>Narsaq</td>\n",
       "      <td>GL</td>\n",
       "      <td>35.60</td>\n",
       "      <td>74</td>\n",
       "      <td>100</td>\n",
       "      <td>3.36</td>\n",
       "      <td>1570917949</td>\n",
       "    </tr>\n",
       "    <tr>\n",
       "      <th>2</th>\n",
       "      <td>-126.83</td>\n",
       "      <td>65.28</td>\n",
       "      <td>Norman Wells</td>\n",
       "      <td>CA</td>\n",
       "      <td>32.00</td>\n",
       "      <td>94</td>\n",
       "      <td>90</td>\n",
       "      <td>23.04</td>\n",
       "      <td>1570917950</td>\n",
       "    </tr>\n",
       "    <tr>\n",
       "      <th>3</th>\n",
       "      <td>-68.52</td>\n",
       "      <td>63.75</td>\n",
       "      <td>Iqaluit</td>\n",
       "      <td>CA</td>\n",
       "      <td>28.40</td>\n",
       "      <td>79</td>\n",
       "      <td>20</td>\n",
       "      <td>9.17</td>\n",
       "      <td>1570917951</td>\n",
       "    </tr>\n",
       "    <tr>\n",
       "      <th>4</th>\n",
       "      <td>148.01</td>\n",
       "      <td>-33.38</td>\n",
       "      <td>Forbes</td>\n",
       "      <td>AU</td>\n",
       "      <td>46.11</td>\n",
       "      <td>84</td>\n",
       "      <td>36</td>\n",
       "      <td>6.46</td>\n",
       "      <td>1570917952</td>\n",
       "    </tr>\n",
       "  </tbody>\n",
       "</table>\n",
       "</div>"
      ],
      "text/plain": [
       "   Longitude  Latitude            City Country  Temp Max  Humidity  \\\n",
       "0    -114.04     27.97  Guerrero Negro      MX     85.53        28   \n",
       "1     -46.05     60.91          Narsaq      GL     35.60        74   \n",
       "2    -126.83     65.28    Norman Wells      CA     32.00        94   \n",
       "3     -68.52     63.75         Iqaluit      CA     28.40        79   \n",
       "4     148.01    -33.38          Forbes      AU     46.11        84   \n",
       "\n",
       "   Cloudiness (%)  Wind Speed (MPH)        Time  \n",
       "0               0              9.02  1570917948  \n",
       "1             100              3.36  1570917949  \n",
       "2              90             23.04  1570917950  \n",
       "3              20              9.17  1570917951  \n",
       "4              36              6.46  1570917952  "
      ]
     },
     "execution_count": 4,
     "metadata": {},
     "output_type": "execute_result"
    }
   ],
   "source": [
    "weather_dict = {\n",
    "    \"Longitude\": long,\n",
    "    \"Latitude\": lat,\n",
    "    \"City\": city_api,\n",
    "    \"Country\": country,\n",
    "    \"Temp Max\": temp_max,\n",
    "    \"Humidity\": hum,\n",
    "    \"Cloudiness (%)\": cloud,\n",
    "    \"Wind Speed (MPH)\": wind,\n",
    "    \"Time\": datetime_api, \n",
    "    }\n",
    "weather_data = pd.DataFrame(weather_dict)\n",
    "weather_data.head()    "
   ]
  },
  {
   "cell_type": "code",
   "execution_count": 5,
   "metadata": {},
   "outputs": [],
   "source": [
    "weather_data.to_csv(\"output_data/Weather_Data_export.csv\", index=False, header=True)"
   ]
  },
  {
   "cell_type": "markdown",
   "metadata": {},
   "source": [
    "### Plotting the Data\n",
    "* Use proper labeling of the plots using plot titles (including date of analysis) and axes labels.\n",
    "* Save the plotted figures as .pngs."
   ]
  },
  {
   "cell_type": "markdown",
   "metadata": {},
   "source": [
    "#### Latitude vs. Temperature Plot"
   ]
  },
  {
   "cell_type": "code",
   "execution_count": 6,
   "metadata": {},
   "outputs": [
    {
     "data": {
      "image/png": "[encoded data removed]",
      "text/plain": [
       "<Figure size 432x288 with 1 Axes>"
      ]
     },
     "metadata": {
      "needs_background": "light"
     },
     "output_type": "display_data"
    }
   ],
   "source": [
    "# Build a scatter plot for each data type\n",
    "plt.scatter(weather_data[\"Latitude\"], weather_data[\"Temp Max\"], marker=\"o\")\n",
    "\n",
    "# Incorporate the other graph properties\n",
    "plt.title(\"City Latitude Vs. Max Temperature 10/12/19\")\n",
    "plt.ylabel(\"Max Temperature (Fahrenheit)\")\n",
    "plt.xlabel(\"Latitude\")\n",
    "plt.grid(True)\n",
    "\n",
    "# Save the figure\n",
    "plt.savefig(\"CityLatitudeVsTemp.png\")\n",
    "\n",
    "# Show plot\n",
    "plt.show()"
   ]
  },
  {
   "cell_type": "markdown",
   "metadata": {},
   "source": [
    "#### Latitude vs. Humidity Plot"
   ]
  },
  {
   "cell_type": "code",
   "execution_count": 7,
   "metadata": {},
   "outputs": [
    {
     "data": {
      "image/png": "[encoded data removed]",
      "text/plain": [
       "<Figure size 432x288 with 1 Axes>"
      ]
     },
     "metadata": {
      "needs_background": "light"
     },
     "output_type": "display_data"
    }
   ],
   "source": [
    "# Build a scatter plot for each data type\n",
    "plt.scatter(weather_data[\"Latitude\"], weather_data[\"Humidity\"], marker=\"o\")\n",
    "\n",
    "# Incorporate the other graph properties\n",
    "plt.title(\"City Latitude Vs. Humidity 10/12/19\")\n",
    "plt.ylabel(\"Humidity %\")\n",
    "plt.xlabel(\"Latitude\")\n",
    "plt.grid(True)\n",
    "\n",
    "# Save the figure\n",
    "plt.savefig(\"CityLatitudeVsHumidity.png\")\n",
    "\n",
    "# Show plot\n",
    "plt.show()"
   ]
  },
  {
   "cell_type": "markdown",
   "metadata": {},
   "source": [
    "#### Latitude vs. Cloudiness Plot"
   ]
  },
  {
   "cell_type": "code",
   "execution_count": 8,
   "metadata": {},
   "outputs": [
    {
     "data": {
      "image/png": "[encoded data removed]",
      "text/plain": [
       "<Figure size 432x288 with 1 Axes>"
      ]
     },
     "metadata": {
      "needs_background": "light"
     },
     "output_type": "display_data"
    }
   ],
   "source": [
    "# Build a scatter plot for each data type\n",
    "plt.scatter(weather_data[\"Latitude\"], weather_data[\"Cloudiness (%)\"], marker=\"o\")\n",
    "\n",
    "# Incorporate the other graph properties\n",
    "plt.title(\"City Latitude Vs. Cloudiness (%) 10/12/19\")\n",
    "plt.ylabel(\"Cloudiness (%)\")\n",
    "plt.xlabel(\"Latitude\")\n",
    "plt.grid(True)\n",
    "\n",
    "# Save the figure\n",
    "plt.savefig(\"CityLatitudeVsCloudiness.png\")\n",
    "\n",
    "# Show plot\n",
    "plt.show()"
   ]
  },
  {
   "cell_type": "markdown",
   "metadata": {},
   "source": [
    "#### Latitude vs. Wind Speed Plot"
   ]
  },
  {
   "cell_type": "code",
   "execution_count": 9,
   "metadata": {},
   "outputs": [
    {
     "data": {
      "image/png": "[encoded data removed]",
      "text/plain": [
       "<Figure size 432x288 with 1 Axes>"
      ]
     },
     "metadata": {
      "needs_background": "light"
     },
     "output_type": "display_data"
    }
   ],
   "source": [
    "# Build a scatter plot for each data type\n",
    "plt.scatter(weather_data[\"Latitude\"], weather_data[\"Wind Speed (MPH)\"], marker=\"o\")\n",
    "\n",
    "# Incorporate the other graph properties\n",
    "plt.title(\"City Latitude Vs. Wind Speed (MPH) 10/12/19\")\n",
    "plt.ylabel(\"Wind Speed (MPH)\")\n",
    "plt.xlabel(\"Latitude\")\n",
    "plt.grid(True)\n",
    "\n",
    "# Save the figure\n",
    "plt.savefig(\"CityLatitudeVsWindSpeed.png\")\n",
    "\n",
    "# Show plot\n",
    "plt.show()"
   ]
  },
  {
   "cell_type": "markdown",
   "metadata": {},
   "source": [
    "## Analysis"
   ]
  },
  {
   "cell_type": "code",
   "execution_count": null,
   "metadata": {},
   "outputs": [],
   "source": []
  }
 ],
 "metadata": {
  "anaconda-cloud": {},
  "kernel_info": {
   "name": "python3"
  },
  "kernelspec": {
   "display_name": "Python 3",
   "language": "python",
   "name": "python3"
  },
  "language_info": {
   "codemirror_mode": {
    "name": "ipython",
    "version": 3
   },
   "file_extension": ".py",
   "mimetype": "text/x-python",
   "name": "python",
   "nbconvert_exporter": "python",
   "pygments_lexer": "ipython3",
   "version": "3.6.8"
  },
  "nteract": {
   "version": "0.12.3"
  }
 },
 "nbformat": 4,
 "nbformat_minor": 2
}
