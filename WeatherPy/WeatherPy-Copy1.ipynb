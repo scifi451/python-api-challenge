{
 "cells": [
  {
   "cell_type": "markdown",
   "metadata": {},
   "source": [
    "# WeatherPy\n",
    "----\n",
    "\n",
    "#### Note\n",
    "* Instructions have been included for each segment. You do not have to follow them exactly, but they are included to help you think through the steps."
   ]
  },
  {
   "cell_type": "code",
   "execution_count": 9,
   "metadata": {
    "scrolled": true
   },
   "outputs": [],
   "source": [
    "# Dependencies and Setup\n",
    "import matplotlib.pyplot as plt\n",
    "import pandas as pd\n",
    "import numpy as np\n",
    "import requests\n",
    "import time\n",
    "\n",
    "# Import API key\n",
    "from api_keys import api_key\n",
    "\n",
    "# Incorporated citipy to determine city based on latitude and longitude\n",
    "from citipy import citipy\n",
    "\n",
    "# Output File (CSV)\n",
    "output_data_file = \"output_data/cities.csv\"\n",
    "\n",
    "# Range of latitudes and longitudes\n",
    "lat_range = (-90, 90)\n",
    "lng_range = (-180, 180)"
   ]
  },
  {
   "cell_type": "markdown",
   "metadata": {},
   "source": [
    "## Generate Cities List"
   ]
  },
  {
   "cell_type": "code",
   "execution_count": 10,
   "metadata": {
    "scrolled": true
   },
   "outputs": [
    {
     "data": {
      "text/plain": [
       "5"
      ]
     },
     "execution_count": 10,
     "metadata": {},
     "output_type": "execute_result"
    }
   ],
   "source": [
    "# List for holding lat_lngs and cities\n",
    "lat_lngs = []\n",
    "cities = []\n",
    "\n",
    "# Create a set of random lat and lng combinations\n",
    "lats = np.random.uniform(low=-90.000, high=90.000, size=5)\n",
    "lngs = np.random.uniform(low=-180.000, high=180.000, size=5)\n",
    "lat_lngs = zip(lats, lngs)\n",
    "\n",
    "# Identify nearest city for each lat, lng combination\n",
    "for lat_lng in lat_lngs:\n",
    "    city = citipy.nearest_city(lat_lng[0], lat_lng[1]).city_name\n",
    "    \n",
    "    #If the city is unique, then add it to a our cities list\n",
    "    if city not in cities:\n",
    "        cities.append(city)\n",
    "\n",
    "# Print the city count to confirm sufficient count\n",
    "len(cities)\n"
   ]
  },
  {
   "cell_type": "markdown",
   "metadata": {},
   "source": [
    "### Perform API Calls\n",
    "* Perform a weather check on each city using a series of successive API calls.\n",
    "* Include a print log of each city as it'sbeing processed (with the city number and city name).\n"
   ]
  },
  {
   "cell_type": "code",
   "execution_count": 13,
   "metadata": {
    "scrolled": false
   },
   "outputs": [
    {
     "name": "stdout",
     "output_type": "stream",
     "text": [
      "Retrieving information for City: Belyy Yar and City ID is: 1510377 \n",
      "Retrieving information for City: Shebunino and City ID is: 468902 \n",
      "Retrieving information for City: Cidreira and City ID is: 3466165 \n",
      "Retrieving information for City: Peshkovo and City ID is: 510539 \n",
      "Retrieving information for City: Bluff and City ID is: 2175403 \n",
      "The latitude information received is: [53.6, 57.66, -30.17, 47.02, -23.58]\n",
      "The latitude information received is: [91.39, 40.04, -50.22, 39.39, 149.07]\n",
      "The temperature information received is: [33.51, 48.27, 73.11, 53.31, 66.99]\n",
      "The humidity information received is: [69, 84, 77, 69, 29]\n",
      "The cloudyiness information received is: [0, 100, 0, 95, 0]\n",
      "The wind information received is: [2.24, 13.46, 17.45, 6.68, 7.41]\n",
      "The city information received is: ['Belyy Yar', 'Shebunino', 'Cidreira', 'Peshkovo', 'Bluff']\n"
     ]
    }
   ],
   "source": [
    "# set up lists to hold response info\n",
    "lat = []\n",
    "temp_max = []\n",
    "hum = []\n",
    "cloud = []\n",
    "wind = []\n",
    "long = []\n",
    "city_api = []\n",
    "country = []\n",
    "datetime_api = []\n",
    "\n",
    "# Save config information.\n",
    "url = \"http://api.openweathermap.org/data/2.5/weather?\"\n",
    "units = \"imperial\"\n",
    "\n",
    "# Build partial query URL\n",
    "query_url = f\"{url}appid={api_key}&units={units}&q=\"\n",
    "\n",
    "# Viewing the straight Json\n",
    "# weather_response = requests.get(query_url + city)\n",
    "# weather_json = weather_response.json()\n",
    "# city_id = weather_json[\"id\"]\n",
    "# city_name = weather_json[\"name\"]\n",
    "\n",
    "    # Loop through the list of cities and perform a request for data on each\n",
    "for city in cities:\n",
    "        weather_response = requests.get(query_url + city)\n",
    "        weather_json = weather_response.json()\n",
    "        #Error handling\n",
    "        try:\n",
    "            city_id = weather_json[\"id\"]\n",
    "            city_name = weather_json[\"name\"]\n",
    "        \n",
    "        # Add a one second interval between queries to stay within API query limits\n",
    "            time.sleep(1)\n",
    "    \n",
    "            response = requests.get(query_url + city).json()\n",
    "            lat.append(response['coord']['lat'])\n",
    "            long.append(response['coord']['lon'])\n",
    "            temp_max.append(response['main']['temp_max'])\n",
    "            hum.append(response['main']['humidity'])\n",
    "            cloud.append(response['clouds']['all'])\n",
    "            wind.append(response['wind']['speed'])\n",
    "            country.append(response['sys']['country'])\n",
    "            city_api.append(response[\"name\"])\n",
    "            datetime_api.append(response[\"dt\"])\n",
    "            \n",
    "            print(f\"Retrieving information for City: {city_name} and City ID is: {city_id} \")\n",
    "            \n",
    "        except (KeyError, IndexError):\n",
    "            print(f\"Missing information for City: {city_name}. Skipping city.\")\n",
    "        \n",
    "print(f\"The latitude information received is: {lat}\")\n",
    "print(f\"The latitude information received is: {long}\")\n",
    "print(f\"The temperature information received is: {temp_max}\")\n",
    "print(f\"The humidity information received is: {hum}\")\n",
    "print(f\"The cloudyiness information received is: {cloud}\")\n",
    "print(f\"The wind information received is: {wind}\")\n",
    "print(f\"The city information received is: {city_api}\")\n",
    "#weather_json\n"
   ]
  },
  {
   "cell_type": "markdown",
   "metadata": {},
   "source": [
    "### Convert Raw Data to DataFrame\n",
    "* Export the city data into a .csv.\n",
    "* Display the DataFrame"
   ]
  },
  {
   "cell_type": "code",
   "execution_count": 17,
   "metadata": {},
   "outputs": [
    {
     "data": {
      "text/html": [
       "<div>\n",
       "<style scoped>\n",
       "    .dataframe tbody tr th:only-of-type {\n",
       "        vertical-align: middle;\n",
       "    }\n",
       "\n",
       "    .dataframe tbody tr th {\n",
       "        vertical-align: top;\n",
       "    }\n",
       "\n",
       "    .dataframe thead th {\n",
       "        text-align: right;\n",
       "    }\n",
       "</style>\n",
       "<table border=\"1\" class=\"dataframe\">\n",
       "  <thead>\n",
       "    <tr style=\"text-align: right;\">\n",
       "      <th></th>\n",
       "      <th>Longitude</th>\n",
       "      <th>Latitude</th>\n",
       "      <th>City</th>\n",
       "      <th>Country</th>\n",
       "      <th>Temp Max</th>\n",
       "      <th>Humidity</th>\n",
       "      <th>Cloudiness (%)</th>\n",
       "      <th>Wind Speed (MPH)</th>\n",
       "      <th>Time</th>\n",
       "    </tr>\n",
       "  </thead>\n",
       "  <tbody>\n",
       "    <tr>\n",
       "      <th>0</th>\n",
       "      <td>91.39</td>\n",
       "      <td>53.60</td>\n",
       "      <td>Belyy Yar</td>\n",
       "      <td>RU</td>\n",
       "      <td>33.51</td>\n",
       "      <td>69</td>\n",
       "      <td>0</td>\n",
       "      <td>2.24</td>\n",
       "      <td>1570916989</td>\n",
       "    </tr>\n",
       "    <tr>\n",
       "      <th>1</th>\n",
       "      <td>40.04</td>\n",
       "      <td>57.66</td>\n",
       "      <td>Shebunino</td>\n",
       "      <td>RU</td>\n",
       "      <td>48.27</td>\n",
       "      <td>84</td>\n",
       "      <td>100</td>\n",
       "      <td>13.46</td>\n",
       "      <td>1570916990</td>\n",
       "    </tr>\n",
       "    <tr>\n",
       "      <th>2</th>\n",
       "      <td>-50.22</td>\n",
       "      <td>-30.17</td>\n",
       "      <td>Cidreira</td>\n",
       "      <td>BR</td>\n",
       "      <td>73.11</td>\n",
       "      <td>77</td>\n",
       "      <td>0</td>\n",
       "      <td>17.45</td>\n",
       "      <td>1570916921</td>\n",
       "    </tr>\n",
       "    <tr>\n",
       "      <th>3</th>\n",
       "      <td>39.39</td>\n",
       "      <td>47.02</td>\n",
       "      <td>Peshkovo</td>\n",
       "      <td>RU</td>\n",
       "      <td>53.31</td>\n",
       "      <td>69</td>\n",
       "      <td>95</td>\n",
       "      <td>6.68</td>\n",
       "      <td>1570916923</td>\n",
       "    </tr>\n",
       "    <tr>\n",
       "      <th>4</th>\n",
       "      <td>149.07</td>\n",
       "      <td>-23.58</td>\n",
       "      <td>Bluff</td>\n",
       "      <td>AU</td>\n",
       "      <td>66.99</td>\n",
       "      <td>29</td>\n",
       "      <td>0</td>\n",
       "      <td>7.41</td>\n",
       "      <td>1570916924</td>\n",
       "    </tr>\n",
       "  </tbody>\n",
       "</table>\n",
       "</div>"
      ],
      "text/plain": [
       "   Longitude  Latitude       City Country  Temp Max  Humidity  Cloudiness (%)  \\\n",
       "0      91.39     53.60  Belyy Yar      RU     33.51        69               0   \n",
       "1      40.04     57.66  Shebunino      RU     48.27        84             100   \n",
       "2     -50.22    -30.17   Cidreira      BR     73.11        77               0   \n",
       "3      39.39     47.02   Peshkovo      RU     53.31        69              95   \n",
       "4     149.07    -23.58      Bluff      AU     66.99        29               0   \n",
       "\n",
       "   Wind Speed (MPH)        Time  \n",
       "0              2.24  1570916989  \n",
       "1             13.46  1570916990  \n",
       "2             17.45  1570916921  \n",
       "3              6.68  1570916923  \n",
       "4              7.41  1570916924  "
      ]
     },
     "execution_count": 17,
     "metadata": {},
     "output_type": "execute_result"
    }
   ],
   "source": [
    "weather_dict = {\n",
    "    \"Longitude\": long,\n",
    "    \"Latitude\": lat,\n",
    "    \"City\": city_api,\n",
    "    \"Country\": country,\n",
    "    \"Temp Max\": temp_max,\n",
    "    \"Humidity\": hum,\n",
    "    \"Cloudiness (%)\": cloud,\n",
    "    \"Wind Speed (MPH)\": wind,\n",
    "    \"Time\": datetime_api, \n",
    "    }\n",
    "weather_data = pd.DataFrame(weather_dict)\n",
    "weather_data.head()    "
   ]
  },
  {
   "cell_type": "markdown",
   "metadata": {},
   "source": [
    "### Plotting the Data\n",
    "* Use proper labeling of the plots using plot titles (including date of analysis) and axes labels.\n",
    "* Save the plotted figures as .pngs."
   ]
  },
  {
   "cell_type": "markdown",
   "metadata": {},
   "source": [
    "#### Latitude vs. Temperature Plot"
   ]
  },
  {
   "cell_type": "code",
   "execution_count": null,
   "metadata": {},
   "outputs": [],
   "source": [
    "# Build a scatter plot for each data type\n",
    "plt.scatter(weather_data[\"Latitude\"], weather_data[\"Temp Max\"], marker=\"o\")\n",
    "\n",
    "# Incorporate the other graph properties\n",
    "plt.title(\"City Latitude Vs. Max Temperature 10/11/19\")\n",
    "plt.ylabel(\"Max Temperature (Fahrenheit)\")\n",
    "plt.xlabel(\"Latitude\")\n",
    "plt.grid(True)\n",
    "\n",
    "# Save the figure\n",
    "plt.savefig(\"CityLatitudeVsTemp.png\")\n",
    "\n",
    "# Show plot\n",
    "plt.show()"
   ]
  },
  {
   "cell_type": "markdown",
   "metadata": {},
   "source": [
    "#### Latitude vs. Humidity Plot"
   ]
  },
  {
   "cell_type": "code",
   "execution_count": null,
   "metadata": {},
   "outputs": [],
   "source": [
    "# Build a scatter plot for each data type\n",
    "plt.scatter(weather_data[\"Latitude\"], weather_data[\"Humidity\"], marker=\"o\")\n",
    "\n",
    "# Incorporate the other graph properties\n",
    "plt.title(\"City Latitude Vs. Humidity 10/11/19\")\n",
    "plt.ylabel(\"Humidity %\")\n",
    "plt.xlabel(\"Latitude\")\n",
    "plt.grid(True)\n",
    "\n",
    "# Save the figure\n",
    "plt.savefig(\"CityLatitudeVsHumidity.png\")\n",
    "\n",
    "# Show plot\n",
    "plt.show()"
   ]
  },
  {
   "cell_type": "markdown",
   "metadata": {},
   "source": [
    "#### Latitude vs. Cloudiness Plot"
   ]
  },
  {
   "cell_type": "code",
   "execution_count": null,
   "metadata": {},
   "outputs": [],
   "source": [
    "# Build a scatter plot for each data type\n",
    "plt.scatter(weather_data[\"Latitude\"], weather_data[\"Cloudiness (%)\"], marker=\"o\")\n",
    "\n",
    "# Incorporate the other graph properties\n",
    "plt.title(\"City Latitude Vs. Cloudiness (%) 10/11/19\")\n",
    "plt.ylabel(\"Cloudiness (%)\")\n",
    "plt.xlabel(\"Latitude\")\n",
    "plt.grid(True)\n",
    "\n",
    "# Save the figure\n",
    "plt.savefig(\"CityLatitudeVsCloudiness.png\")\n",
    "\n",
    "# Show plot\n",
    "plt.show()"
   ]
  },
  {
   "cell_type": "markdown",
   "metadata": {},
   "source": [
    "#### Latitude vs. Wind Speed Plot"
   ]
  },
  {
   "cell_type": "code",
   "execution_count": null,
   "metadata": {},
   "outputs": [],
   "source": [
    "# Build a scatter plot for each data type\n",
    "plt.scatter(weather_data[\"Latitude\"], weather_data[\"Wind Speed (MPH)\"], marker=\"o\")\n",
    "\n",
    "# Incorporate the other graph properties\n",
    "plt.title(\"City Latitude Vs. Wind Speed (MPH) 10/11/19\")\n",
    "plt.ylabel(\"Wind Speed (MPH)\")\n",
    "plt.xlabel(\"Latitude\")\n",
    "plt.grid(True)\n",
    "\n",
    "# Save the figure\n",
    "plt.savefig(\"CityLatitudeVsWindSpeed.png\")\n",
    "\n",
    "# Show plot\n",
    "plt.show()"
   ]
  },
  {
   "cell_type": "code",
   "execution_count": null,
   "metadata": {},
   "outputs": [],
   "source": []
  }
 ],
 "metadata": {
  "anaconda-cloud": {},
  "kernel_info": {
   "name": "python3"
  },
  "kernelspec": {
   "display_name": "Python 3",
   "language": "python",
   "name": "python3"
  },
  "language_info": {
   "codemirror_mode": {
    "name": "ipython",
    "version": 3
   },
   "file_extension": ".py",
   "mimetype": "text/x-python",
   "name": "python",
   "nbconvert_exporter": "python",
   "pygments_lexer": "ipython3",
   "version": "3.6.8"
  },
  "nteract": {
   "version": "0.12.3"
  }
 },
 "nbformat": 4,
 "nbformat_minor": 2
}
