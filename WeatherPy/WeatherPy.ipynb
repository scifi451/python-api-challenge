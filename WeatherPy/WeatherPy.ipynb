{
 "cells": [
  {
   "cell_type": "markdown",
   "metadata": {},
   "source": [
    "# WeatherPy\n",
    "----\n",
    "\n",
    "#### Note\n",
    "* Instructions have been included for each segment. You do not have to follow them exactly, but they are included to help you think through the steps."
   ]
  },
  {
   "cell_type": "code",
   "execution_count": 4,
   "metadata": {
    "scrolled": true
   },
   "outputs": [],
   "source": [
    "# Dependencies and Setup\n",
    "import matplotlib.pyplot as plt\n",
    "import pandas as pd\n",
    "import numpy as np\n",
    "import requests\n",
    "import time\n",
    "\n",
    "# Import API key\n",
    "from api_keys import api_key\n",
    "\n",
    "# Incorporated citipy to determine city based on latitude and longitude\n",
    "from citipy import citipy\n",
    "\n",
    "# Output File (CSV)\n",
    "output_data_file = \"output_data/cities.csv\"\n",
    "\n",
    "# Range of latitudes and longitudes\n",
    "lat_range = (-90, 90)\n",
    "lng_range = (-180, 180)"
   ]
  },
  {
   "cell_type": "markdown",
   "metadata": {},
   "source": [
    "## Generate Cities List"
   ]
  },
  {
   "cell_type": "code",
   "execution_count": 15,
   "metadata": {
    "scrolled": true
   },
   "outputs": [
    {
     "data": {
      "text/plain": [
       "['erenhot',\n",
       " 'airai',\n",
       " 'sistranda',\n",
       " 'mayumba',\n",
       " 'faanui',\n",
       " 'atar',\n",
       " 'mys shmidta',\n",
       " 'oakley',\n",
       " 'hagere hiywet',\n",
       " 'ilulissat',\n",
       " 'albany',\n",
       " 'ponta do sol',\n",
       " 'yellowknife',\n",
       " 'avarua',\n",
       " 'rikitea',\n",
       " 'geraldton',\n",
       " 'nikolskoye',\n",
       " 'ushuaia',\n",
       " 'saint george',\n",
       " 'attawapiskat',\n",
       " 'samusu',\n",
       " 'hobart',\n",
       " 'maloshuyka',\n",
       " 'upernavik',\n",
       " 'bambous virieux',\n",
       " 'waipawa',\n",
       " 'barrow',\n",
       " 'new norfolk',\n",
       " 'weligama',\n",
       " 'acari',\n",
       " 'the valley',\n",
       " 'port lincoln',\n",
       " 'belushya guba',\n",
       " 'jamestown',\n",
       " 'aykhal',\n",
       " 'klaksvik',\n",
       " 'te anau',\n",
       " 'tuatapere',\n",
       " 'fenoarivo',\n",
       " 'mataura',\n",
       " 'pemangkat',\n",
       " 'kruisfontein',\n",
       " 'chokurdakh',\n",
       " 'bengkulu',\n",
       " 'khash',\n",
       " 'neuquen',\n",
       " 'norman wells',\n",
       " 'road town',\n",
       " 'soyo',\n",
       " 'buri',\n",
       " 'dunedin',\n",
       " 'atuona',\n",
       " 'vaini',\n",
       " 'najran',\n",
       " 'bluff',\n",
       " 'castro',\n",
       " 'hithadhoo',\n",
       " 'cape town',\n",
       " 'havre-saint-pierre',\n",
       " 'illoqqortoormiut',\n",
       " 'kamenskoye',\n",
       " 'mar del plata',\n",
       " 'bethel',\n",
       " 'tasiilaq',\n",
       " 'mount pleasant',\n",
       " 'teseney',\n",
       " 'maralal',\n",
       " 'pevek',\n",
       " 'east london',\n",
       " 'fortuna',\n",
       " 'sao joao da barra',\n",
       " 'hermanus',\n",
       " 'nanortalik',\n",
       " 'puerto ayora',\n",
       " 'dikson',\n",
       " 'nizhneyansk',\n",
       " 'jijiga',\n",
       " 'virginia beach',\n",
       " 'rosaryville',\n",
       " 'constitucion']"
      ]
     },
     "execution_count": 15,
     "metadata": {},
     "output_type": "execute_result"
    }
   ],
   "source": [
    "# List for holding lat_lngs and cities\n",
    "lat_lngs = []\n",
    "cities = []\n",
    "\n",
    "# Create a set of random lat and lng combinations\n",
    "lats = np.random.uniform(low=-90.000, high=90.000, size=100)\n",
    "lngs = np.random.uniform(low=-180.000, high=180.000, size=100)\n",
    "lat_lngs = zip(lats, lngs)\n",
    "\n",
    "# Identify nearest city for each lat, lng combination\n",
    "for lat_lng in lat_lngs:\n",
    "    city = citipy.nearest_city(lat_lng[0], lat_lng[1]).city_name\n",
    "    \n",
    "    #If the city is unique, then add it to a our cities list\n",
    "    if city not in cities:\n",
    "        cities.append(city)\n",
    "\n",
    "# Print the city count to confirm sufficient count\n",
    "len(cities)\n",
    "cities"
   ]
  },
  {
   "cell_type": "markdown",
   "metadata": {},
   "source": [
    "### Perform API Calls\n",
    "* Perform a weather check on each city using a series of successive API calls.\n",
    "* Include a print log of each city as it'sbeing processed (with the city number and city name).\n"
   ]
  },
  {
   "cell_type": "code",
   "execution_count": 39,
   "metadata": {
    "scrolled": false
   },
   "outputs": [
    {
     "name": "stdout",
     "output_type": "stream",
     "text": [
      "Retrieving information for City: Erenhot and City ID is: 2037485 \n",
      "Retrieving information for City: Airai and City ID is: 1651810 \n",
      "Retrieving information for City: Sistranda and City ID is: 3139597 \n",
      "Retrieving information for City: Mayumba and City ID is: 2399001 \n",
      "Retrieving information for City: Faanui and City ID is: 4034551 \n",
      "Retrieving information for City: Atar and City ID is: 2381334 \n",
      "Missing city... skipping.\n",
      "Retrieving information for City: Oakley and City ID is: 5378566 \n",
      "Retrieving information for City: Hagere Hiywet and City ID is: 335288 \n",
      "Retrieving information for City: Ilulissat and City ID is: 3423146 \n",
      "Retrieving information for City: Albany and City ID is: 5106834 \n",
      "Retrieving information for City: Ponta do Sol and City ID is: 3453439 \n",
      "Retrieving information for City: Yellowknife and City ID is: 6185377 \n",
      "Retrieving information for City: Avarua and City ID is: 4035715 \n",
      "Retrieving information for City: Rikitea and City ID is: 4030556 \n",
      "Retrieving information for City: Geraldton and City ID is: 5960603 \n",
      "Retrieving information for City: Nikolskoye and City ID is: 546105 \n",
      "Retrieving information for City: Ushuaia and City ID is: 3833367 \n",
      "Retrieving information for City: Saint George and City ID is: 262462 \n",
      "Missing city... skipping.\n",
      "Missing city... skipping.\n",
      "Retrieving information for City: Hobart and City ID is: 2163355 \n",
      "Missing city... skipping.\n",
      "Retrieving information for City: Upernavik and City ID is: 3418910 \n",
      "Retrieving information for City: Bambous Virieux and City ID is: 1106677 \n",
      "Retrieving information for City: Waipawa and City ID is: 2185329 \n",
      "Retrieving information for City: Barrow and City ID is: 3833859 \n",
      "Retrieving information for City: New Norfolk and City ID is: 2155415 \n",
      "Retrieving information for City: Weligama and City ID is: 1223738 \n",
      "Retrieving information for City: Acari and City ID is: 3390864 \n",
      "Retrieving information for City: The Valley and City ID is: 3573374 \n",
      "Retrieving information for City: Port Lincoln and City ID is: 2063036 \n",
      "Missing city... skipping.\n",
      "Retrieving information for City: Jamestown and City ID is: 2069194 \n",
      "Retrieving information for City: Aykhal and City ID is: 2027296 \n",
      "Retrieving information for City: Klaksvik and City ID is: 2618795 \n",
      "Retrieving information for City: Te Anau and City ID is: 2181625 \n",
      "Retrieving information for City: Tuatapere and City ID is: 2180815 \n",
      "Retrieving information for City: Fenoarivo and City ID is: 1070940 \n",
      "Retrieving information for City: Mataura and City ID is: 6201424 \n",
      "Missing city... skipping.\n",
      "Retrieving information for City: Kruisfontein and City ID is: 986717 \n",
      "Retrieving information for City: Chokurdakh and City ID is: 2126123 \n",
      "Missing city... skipping.\n",
      "Retrieving information for City: Khash and City ID is: 1160571 \n",
      "Retrieving information for City: Neuquen and City ID is: 3843123 \n",
      "Retrieving information for City: Norman Wells and City ID is: 6089245 \n",
      "Retrieving information for City: Road Town and City ID is: 3577430 \n",
      "Retrieving information for City: Soyo and City ID is: 2236967 \n",
      "Retrieving information for City: Buri and City ID is: 3468802 \n",
      "Retrieving information for City: Dunedin and City ID is: 2191562 \n",
      "Retrieving information for City: Atuona and City ID is: 4020109 \n",
      "Retrieving information for City: Vaini and City ID is: 1273574 \n",
      "Retrieving information for City: Najran and City ID is: 103630 \n",
      "Retrieving information for City: Bluff and City ID is: 2175403 \n",
      "Retrieving information for City: Castro and City ID is: 3896218 \n",
      "Retrieving information for City: Hithadhoo and City ID is: 1282256 \n",
      "Retrieving information for City: Cape Town and City ID is: 3369157 \n",
      "Retrieving information for City: Havre-Saint-Pierre and City ID is: 5972291 \n",
      "Missing city... skipping.\n",
      "Missing city... skipping.\n",
      "Retrieving information for City: Mar del Plata and City ID is: 3863379 \n",
      "Retrieving information for City: Bethel and City ID is: 5880568 \n",
      "Retrieving information for City: Tasiilaq and City ID is: 3424607 \n",
      "Retrieving information for City: Mount Pleasant and City ID is: 4712933 \n",
      "Retrieving information for City: Teseney and City ID is: 327651 \n",
      "Retrieving information for City: Maralal and City ID is: 187725 \n",
      "Retrieving information for City: Pevek and City ID is: 2122090 \n",
      "Retrieving information for City: East London and City ID is: 1006984 \n",
      "Retrieving information for City: Fortuna and City ID is: 5563839 \n",
      "Retrieving information for City: Sao Joao da Barra and City ID is: 3448903 \n",
      "Retrieving information for City: Hermanus and City ID is: 3366880 \n",
      "Retrieving information for City: Nanortalik and City ID is: 3421765 \n",
      "Retrieving information for City: Puerto Ayora and City ID is: 3652764 \n",
      "Retrieving information for City: Dikson and City ID is: 1507390 \n",
      "Missing city... skipping.\n",
      "Retrieving information for City: Jijiga and City ID is: 333795 \n",
      "Retrieving information for City: Virginia Beach and City ID is: 4791259 \n",
      "Retrieving information for City: Rosaryville and City ID is: 4367344 \n",
      "Retrieving information for City: Constitucion and City ID is: 4011743 \n"
     ]
    }
   ],
   "source": [
    "# set up lists to hold response info\n",
    "lat = []\n",
    "temp = []\n",
    "hum = []\n",
    "cloud = []\n",
    "wind = []\n",
    "\n",
    "# Save config information.\n",
    "url = \"http://api.openweathermap.org/data/2.5/weather?\"\n",
    "units = \"imperial\"\n",
    "\n",
    "# Build partial query URL\n",
    "query_url = f\"{url}appid={api_key}&units={units}&q=\"\n",
    "\n",
    "# Viewing the straight Json\n",
    "# weather_response = requests.get(query_url + city)\n",
    "# weather_json = weather_response.json()\n",
    "# city_id = weather_json[\"id\"]\n",
    "# city_name = weather_json[\"name\"]\n",
    "\n",
    "\n",
    "\n",
    "#Error handling\n",
    "\n",
    "    # Loop through the list of cities and perform a request for data on each\n",
    "for city in cities:\n",
    "        weather_response = requests.get(query_url + city)\n",
    "        weather_json = weather_response.json()\n",
    "        try:\n",
    "            city_id = weather_json[\"id\"]\n",
    "            city_name = weather_json[\"name\"]\n",
    "        # Add a one second interval between queries to stay within API query limits\n",
    "            time.sleep(1)\n",
    "    \n",
    "        \n",
    "    \n",
    "            response = requests.get(query_url + city).json()\n",
    "            lat.append(response['coord']['lat'])\n",
    "            temp.append(response['main']['temp'])\n",
    "            hum.append(response['main']['humidity'])\n",
    "            cloud.append(response['clouds']['all'])\n",
    "            wind.append(response['wind']['speed'])\n",
    "            print(f\"Retrieving information for City: {city_name} and City ID is: {city_id} \")\n",
    "            \n",
    "        except (KeyError, IndexError):\n",
    "            print(\"Missing city... skipping.\")\n",
    "        \n",
    "# print(f\"The latitude information received is: {lat}\")\n",
    "# print(f\"The temperature information received is: {temp}\")\n",
    "# print(f\"The humidity information received is: {hum}\")\n",
    "# print(f\"The cloudyiness information received is: {cloud}\")\n",
    "# print(f\"The wind information received is: {wind}\")\n",
    "# weather_json\n"
   ]
  },
  {
   "cell_type": "markdown",
   "metadata": {},
   "source": [
    "### Convert Raw Data to DataFrame\n",
    "* Export the city data into a .csv.\n",
    "* Display the DataFrame"
   ]
  },
  {
   "cell_type": "code",
   "execution_count": 40,
   "metadata": {},
   "outputs": [
    {
     "data": {
      "text/html": [
       "<div>\n",
       "<style scoped>\n",
       "    .dataframe tbody tr th:only-of-type {\n",
       "        vertical-align: middle;\n",
       "    }\n",
       "\n",
       "    .dataframe tbody tr th {\n",
       "        vertical-align: top;\n",
       "    }\n",
       "\n",
       "    .dataframe thead th {\n",
       "        text-align: right;\n",
       "    }\n",
       "</style>\n",
       "<table border=\"1\" class=\"dataframe\">\n",
       "  <thead>\n",
       "    <tr style=\"text-align: right;\">\n",
       "      <th></th>\n",
       "      <th>Latitude</th>\n",
       "      <th>Temp</th>\n",
       "      <th>Humidity</th>\n",
       "      <th>Cloudiness (%)</th>\n",
       "      <th>Wind Speed (MPH)</th>\n",
       "    </tr>\n",
       "  </thead>\n",
       "  <tbody>\n",
       "    <tr>\n",
       "      <th>0</th>\n",
       "      <td>43.65</td>\n",
       "      <td>33.04</td>\n",
       "      <td>38</td>\n",
       "      <td>0</td>\n",
       "      <td>17.62</td>\n",
       "    </tr>\n",
       "    <tr>\n",
       "      <th>1</th>\n",
       "      <td>-8.93</td>\n",
       "      <td>81.05</td>\n",
       "      <td>18</td>\n",
       "      <td>67</td>\n",
       "      <td>5.59</td>\n",
       "    </tr>\n",
       "    <tr>\n",
       "      <th>2</th>\n",
       "      <td>63.73</td>\n",
       "      <td>43.66</td>\n",
       "      <td>93</td>\n",
       "      <td>40</td>\n",
       "      <td>3.36</td>\n",
       "    </tr>\n",
       "    <tr>\n",
       "      <th>3</th>\n",
       "      <td>-3.44</td>\n",
       "      <td>76.77</td>\n",
       "      <td>91</td>\n",
       "      <td>100</td>\n",
       "      <td>5.95</td>\n",
       "    </tr>\n",
       "    <tr>\n",
       "      <th>4</th>\n",
       "      <td>-16.48</td>\n",
       "      <td>75.27</td>\n",
       "      <td>77</td>\n",
       "      <td>4</td>\n",
       "      <td>21.43</td>\n",
       "    </tr>\n",
       "  </tbody>\n",
       "</table>\n",
       "</div>"
      ],
      "text/plain": [
       "   Latitude   Temp  Humidity  Cloudiness (%)  Wind Speed (MPH)\n",
       "0     43.65  33.04        38               0             17.62\n",
       "1     -8.93  81.05        18              67              5.59\n",
       "2     63.73  43.66        93              40              3.36\n",
       "3     -3.44  76.77        91             100              5.95\n",
       "4    -16.48  75.27        77               4             21.43"
      ]
     },
     "execution_count": 40,
     "metadata": {},
     "output_type": "execute_result"
    }
   ],
   "source": [
    "weather_dict = {\n",
    "    \"Latitude\": lat,\n",
    "    \"Temp\": temp,\n",
    "    \"Humidity\": hum,\n",
    "    \"Cloudiness (%)\": cloud,\n",
    "    \"Wind Speed (MPH)\": wind\n",
    "    }\n",
    "weather_data = pd.DataFrame(weather_dict)\n",
    "weather_data.head()    "
   ]
  },
  {
   "cell_type": "markdown",
   "metadata": {},
   "source": [
    "### Plotting the Data\n",
    "* Use proper labeling of the plots using plot titles (including date of analysis) and axes labels.\n",
    "* Save the plotted figures as .pngs."
   ]
  },
  {
   "cell_type": "markdown",
   "metadata": {},
   "source": [
    "#### Latitude vs. Temperature Plot"
   ]
  },
  {
   "cell_type": "code",
   "execution_count": 41,
   "metadata": {},
   "outputs": [
    {
     "data": {
      "image/png": "[encoded data removed]",
      "text/plain": [
       "<Figure size 432x288 with 1 Axes>"
      ]
     },
     "metadata": {
      "needs_background": "light"
     },
     "output_type": "display_data"
    }
   ],
   "source": [
    "# Build a scatter plot for each data type\n",
    "plt.scatter(weather_data[\"Latitude\"], weather_data[\"Temp\"], marker=\"o\")\n",
    "\n",
    "# Incorporate the other graph properties\n",
    "plt.title(\"Temperature in World Cities\")\n",
    "plt.ylabel(\"Temperature (Fahrenheit)\")\n",
    "plt.xlabel(\"Latitude\")\n",
    "plt.grid(True)\n",
    "\n",
    "# Save the figure\n",
    "plt.savefig(\"TemperatureInWorldCities.png\")\n",
    "\n",
    "# Show plot\n",
    "plt.show()"
   ]
  },
  {
   "cell_type": "markdown",
   "metadata": {},
   "source": [
    "#### Latitude vs. Humidity Plot"
   ]
  },
  {
   "cell_type": "code",
   "execution_count": 42,
   "metadata": {},
   "outputs": [
    {
     "data": {
      "image/png": "[encoded data removed]",
      "text/plain": [
       "<Figure size 432x288 with 1 Axes>"
      ]
     },
     "metadata": {
      "needs_background": "light"
     },
     "output_type": "display_data"
    }
   ],
   "source": [
    "# Build a scatter plot for each data type\n",
    "plt.scatter(weather_data[\"Latitude\"], weather_data[\"Humidity\"], marker=\"o\")\n",
    "\n",
    "# Incorporate the other graph properties\n",
    "plt.title(\"Humidity in World Cities\")\n",
    "plt.ylabel(\"Humidity %\")\n",
    "plt.xlabel(\"Latitude\")\n",
    "plt.grid(True)\n",
    "\n",
    "# Save the figure\n",
    "plt.savefig(\"TemperatureInWorldCities.png\")\n",
    "\n",
    "# Show plot\n",
    "plt.show()"
   ]
  },
  {
   "cell_type": "markdown",
   "metadata": {},
   "source": [
    "#### Latitude vs. Cloudiness Plot"
   ]
  },
  {
   "cell_type": "code",
   "execution_count": 43,
   "metadata": {},
   "outputs": [
    {
     "data": {
      "image/png": "[encoded data removed]",
      "text/plain": [
       "<Figure size 432x288 with 1 Axes>"
      ]
     },
     "metadata": {
      "needs_background": "light"
     },
     "output_type": "display_data"
    }
   ],
   "source": [
    "# Build a scatter plot for each data type\n",
    "plt.scatter(weather_data[\"Latitude\"], weather_data[\"Cloudiness (%)\"], marker=\"o\")\n",
    "\n",
    "# Incorporate the other graph properties\n",
    "plt.title(\"Cloudiness (%) in World Cities\")\n",
    "plt.ylabel(\"Cloudiness (%)\")\n",
    "plt.xlabel(\"Latitude\")\n",
    "plt.grid(True)\n",
    "\n",
    "# Save the figure\n",
    "plt.savefig(\"TemperatureInWorldCities.png\")\n",
    "\n",
    "# Show plot\n",
    "plt.show()"
   ]
  },
  {
   "cell_type": "markdown",
   "metadata": {},
   "source": [
    "#### Latitude vs. Wind Speed Plot"
   ]
  },
  {
   "cell_type": "code",
   "execution_count": 44,
   "metadata": {},
   "outputs": [
    {
     "data": {
      "image/png": "[encoded data removed]",
      "text/plain": [
       "<Figure size 432x288 with 1 Axes>"
      ]
     },
     "metadata": {
      "needs_background": "light"
     },
     "output_type": "display_data"
    }
   ],
   "source": [
    "# Build a scatter plot for each data type\n",
    "plt.scatter(weather_data[\"Latitude\"], weather_data[\"Wind Speed (MPH)\"], marker=\"o\")\n",
    "\n",
    "# Incorporate the other graph properties\n",
    "plt.title(\"Wind Speed (MPH) in World Cities\")\n",
    "plt.ylabel(\"Wind Speed (MPH)\")\n",
    "plt.xlabel(\"Latitude\")\n",
    "plt.grid(True)\n",
    "\n",
    "# Save the figure\n",
    "plt.savefig(\"TemperatureInWorldCities.png\")\n",
    "\n",
    "# Show plot\n",
    "plt.show()"
   ]
  },
  {
   "cell_type": "code",
   "execution_count": null,
   "metadata": {},
   "outputs": [],
   "source": []
  }
 ],
 "metadata": {
  "anaconda-cloud": {},
  "kernel_info": {
   "name": "python3"
  },
  "kernelspec": {
   "display_name": "Python 3",
   "language": "python",
   "name": "python3"
  },
  "language_info": {
   "codemirror_mode": {
    "name": "ipython",
    "version": 3
   },
   "file_extension": ".py",
   "mimetype": "text/x-python",
   "name": "python",
   "nbconvert_exporter": "python",
   "pygments_lexer": "ipython3",
   "version": "3.6.8"
  },
  "nteract": {
   "version": "0.12.3"
  }
 },
 "nbformat": 4,
 "nbformat_minor": 2
}
